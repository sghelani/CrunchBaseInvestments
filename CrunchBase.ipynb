{
 "cells": [
  {
   "cell_type": "markdown",
   "metadata": {},
   "source": [
    "**Displaying the columns and its datatypes**"
   ]
  },
  {
   "cell_type": "code",
   "execution_count": 1,
   "metadata": {},
   "outputs": [
    {
     "name": "stdout",
     "output_type": "stream",
     "text": [
      "<class 'pandas.core.frame.DataFrame'>\n",
      "RangeIndex: 5 entries, 0 to 4\n",
      "Data columns (total 20 columns):\n",
      " #   Column                  Non-Null Count  Dtype \n",
      "---  ------                  --------------  ----- \n",
      " 0   company_permalink       5 non-null      object\n",
      " 1   company_name            5 non-null      object\n",
      " 2   company_category_code   5 non-null      object\n",
      " 3   company_country_code    5 non-null      object\n",
      " 4   company_state_code      4 non-null      object\n",
      " 5   company_region          5 non-null      object\n",
      " 6   company_city            4 non-null      object\n",
      " 7   investor_permalink      5 non-null      object\n",
      " 8   investor_name           5 non-null      object\n",
      " 9   investor_category_code  4 non-null      object\n",
      " 10  investor_country_code   5 non-null      object\n",
      " 11  investor_state_code     5 non-null      object\n",
      " 12  investor_region         5 non-null      object\n",
      " 13  investor_city           5 non-null      object\n",
      " 14  funding_round_type      5 non-null      object\n",
      " 15  funded_at               5 non-null      object\n",
      " 16  funded_month            5 non-null      object\n",
      " 17  funded_quarter          5 non-null      object\n",
      " 18  funded_year             5 non-null      int64 \n",
      " 19  raised_amount_usd       5 non-null      int64 \n",
      "dtypes: int64(2), object(18)\n",
      "memory usage: 928.0+ bytes\n"
     ]
    }
   ],
   "source": [
    "import pandas as pd\n",
    "first_five = pd.read_csv('Data/crunchbase-investments.csv',  nrows=5)\n",
    "first_five.info()"
   ]
  },
  {
   "cell_type": "markdown",
   "metadata": {},
   "source": [
    "**Displaying data**"
   ]
  },
  {
   "cell_type": "code",
   "execution_count": 2,
   "metadata": {},
   "outputs": [
    {
     "data": {
      "text/html": [
       "<div>\n",
       "<style scoped>\n",
       "    .dataframe tbody tr th:only-of-type {\n",
       "        vertical-align: middle;\n",
       "    }\n",
       "\n",
       "    .dataframe tbody tr th {\n",
       "        vertical-align: top;\n",
       "    }\n",
       "\n",
       "    .dataframe thead th {\n",
       "        text-align: right;\n",
       "    }\n",
       "</style>\n",
       "<table border=\"1\" class=\"dataframe\">\n",
       "  <thead>\n",
       "    <tr style=\"text-align: right;\">\n",
       "      <th></th>\n",
       "      <th>company_permalink</th>\n",
       "      <th>company_name</th>\n",
       "      <th>company_category_code</th>\n",
       "      <th>company_country_code</th>\n",
       "      <th>company_state_code</th>\n",
       "      <th>company_region</th>\n",
       "      <th>company_city</th>\n",
       "      <th>investor_permalink</th>\n",
       "      <th>investor_name</th>\n",
       "      <th>investor_category_code</th>\n",
       "      <th>investor_country_code</th>\n",
       "      <th>investor_state_code</th>\n",
       "      <th>investor_region</th>\n",
       "      <th>investor_city</th>\n",
       "      <th>funding_round_type</th>\n",
       "      <th>funded_at</th>\n",
       "      <th>funded_month</th>\n",
       "      <th>funded_quarter</th>\n",
       "      <th>funded_year</th>\n",
       "      <th>raised_amount_usd</th>\n",
       "    </tr>\n",
       "  </thead>\n",
       "  <tbody>\n",
       "    <tr>\n",
       "      <th>0</th>\n",
       "      <td>/company/advercar</td>\n",
       "      <td>AdverCar</td>\n",
       "      <td>advertising</td>\n",
       "      <td>USA</td>\n",
       "      <td>CA</td>\n",
       "      <td>SF Bay</td>\n",
       "      <td>San Francisco</td>\n",
       "      <td>/company/1-800-flowers-com</td>\n",
       "      <td>1-800-FLOWERS.COM</td>\n",
       "      <td>NaN</td>\n",
       "      <td>USA</td>\n",
       "      <td>NY</td>\n",
       "      <td>New York</td>\n",
       "      <td>New York</td>\n",
       "      <td>series-a</td>\n",
       "      <td>2012-10-30</td>\n",
       "      <td>2012-10</td>\n",
       "      <td>2012-Q4</td>\n",
       "      <td>2012</td>\n",
       "      <td>2000000</td>\n",
       "    </tr>\n",
       "    <tr>\n",
       "      <th>1</th>\n",
       "      <td>/company/launchgram</td>\n",
       "      <td>LaunchGram</td>\n",
       "      <td>news</td>\n",
       "      <td>USA</td>\n",
       "      <td>CA</td>\n",
       "      <td>SF Bay</td>\n",
       "      <td>Mountain View</td>\n",
       "      <td>/company/10xelerator</td>\n",
       "      <td>10Xelerator</td>\n",
       "      <td>finance</td>\n",
       "      <td>USA</td>\n",
       "      <td>OH</td>\n",
       "      <td>Columbus</td>\n",
       "      <td>Columbus</td>\n",
       "      <td>other</td>\n",
       "      <td>2012-01-23</td>\n",
       "      <td>2012-01</td>\n",
       "      <td>2012-Q1</td>\n",
       "      <td>2012</td>\n",
       "      <td>20000</td>\n",
       "    </tr>\n",
       "    <tr>\n",
       "      <th>2</th>\n",
       "      <td>/company/utap</td>\n",
       "      <td>uTaP</td>\n",
       "      <td>messaging</td>\n",
       "      <td>USA</td>\n",
       "      <td>NaN</td>\n",
       "      <td>United States - Other</td>\n",
       "      <td>NaN</td>\n",
       "      <td>/company/10xelerator</td>\n",
       "      <td>10Xelerator</td>\n",
       "      <td>finance</td>\n",
       "      <td>USA</td>\n",
       "      <td>OH</td>\n",
       "      <td>Columbus</td>\n",
       "      <td>Columbus</td>\n",
       "      <td>other</td>\n",
       "      <td>2012-01-01</td>\n",
       "      <td>2012-01</td>\n",
       "      <td>2012-Q1</td>\n",
       "      <td>2012</td>\n",
       "      <td>20000</td>\n",
       "    </tr>\n",
       "    <tr>\n",
       "      <th>3</th>\n",
       "      <td>/company/zoopshop</td>\n",
       "      <td>ZoopShop</td>\n",
       "      <td>software</td>\n",
       "      <td>USA</td>\n",
       "      <td>OH</td>\n",
       "      <td>Columbus</td>\n",
       "      <td>columbus</td>\n",
       "      <td>/company/10xelerator</td>\n",
       "      <td>10Xelerator</td>\n",
       "      <td>finance</td>\n",
       "      <td>USA</td>\n",
       "      <td>OH</td>\n",
       "      <td>Columbus</td>\n",
       "      <td>Columbus</td>\n",
       "      <td>angel</td>\n",
       "      <td>2012-02-15</td>\n",
       "      <td>2012-02</td>\n",
       "      <td>2012-Q1</td>\n",
       "      <td>2012</td>\n",
       "      <td>20000</td>\n",
       "    </tr>\n",
       "    <tr>\n",
       "      <th>4</th>\n",
       "      <td>/company/efuneral</td>\n",
       "      <td>eFuneral</td>\n",
       "      <td>web</td>\n",
       "      <td>USA</td>\n",
       "      <td>OH</td>\n",
       "      <td>Cleveland</td>\n",
       "      <td>Cleveland</td>\n",
       "      <td>/company/10xelerator</td>\n",
       "      <td>10Xelerator</td>\n",
       "      <td>finance</td>\n",
       "      <td>USA</td>\n",
       "      <td>OH</td>\n",
       "      <td>Columbus</td>\n",
       "      <td>Columbus</td>\n",
       "      <td>other</td>\n",
       "      <td>2011-09-08</td>\n",
       "      <td>2011-09</td>\n",
       "      <td>2011-Q3</td>\n",
       "      <td>2011</td>\n",
       "      <td>20000</td>\n",
       "    </tr>\n",
       "  </tbody>\n",
       "</table>\n",
       "</div>"
      ],
      "text/plain": [
       "     company_permalink company_name company_category_code  \\\n",
       "0    /company/advercar     AdverCar           advertising   \n",
       "1  /company/launchgram   LaunchGram                  news   \n",
       "2        /company/utap         uTaP             messaging   \n",
       "3    /company/zoopshop     ZoopShop              software   \n",
       "4    /company/efuneral     eFuneral                   web   \n",
       "\n",
       "  company_country_code company_state_code         company_region  \\\n",
       "0                  USA                 CA                 SF Bay   \n",
       "1                  USA                 CA                 SF Bay   \n",
       "2                  USA                NaN  United States - Other   \n",
       "3                  USA                 OH               Columbus   \n",
       "4                  USA                 OH              Cleveland   \n",
       "\n",
       "    company_city          investor_permalink      investor_name  \\\n",
       "0  San Francisco  /company/1-800-flowers-com  1-800-FLOWERS.COM   \n",
       "1  Mountain View        /company/10xelerator        10Xelerator   \n",
       "2            NaN        /company/10xelerator        10Xelerator   \n",
       "3       columbus        /company/10xelerator        10Xelerator   \n",
       "4      Cleveland        /company/10xelerator        10Xelerator   \n",
       "\n",
       "  investor_category_code investor_country_code investor_state_code  \\\n",
       "0                    NaN                   USA                  NY   \n",
       "1                finance                   USA                  OH   \n",
       "2                finance                   USA                  OH   \n",
       "3                finance                   USA                  OH   \n",
       "4                finance                   USA                  OH   \n",
       "\n",
       "  investor_region investor_city funding_round_type   funded_at funded_month  \\\n",
       "0        New York      New York           series-a  2012-10-30      2012-10   \n",
       "1        Columbus      Columbus              other  2012-01-23      2012-01   \n",
       "2        Columbus      Columbus              other  2012-01-01      2012-01   \n",
       "3        Columbus      Columbus              angel  2012-02-15      2012-02   \n",
       "4        Columbus      Columbus              other  2011-09-08      2011-09   \n",
       "\n",
       "  funded_quarter  funded_year  raised_amount_usd  \n",
       "0        2012-Q4         2012            2000000  \n",
       "1        2012-Q1         2012              20000  \n",
       "2        2012-Q1         2012              20000  \n",
       "3        2012-Q1         2012              20000  \n",
       "4        2011-Q3         2011              20000  "
      ]
     },
     "execution_count": 2,
     "metadata": {},
     "output_type": "execute_result"
    }
   ],
   "source": [
    "first_five"
   ]
  },
  {
   "cell_type": "markdown",
   "metadata": {},
   "source": [
    "**Reading data in chunks to analyze and optimize memory consumption**"
   ]
  },
  {
   "cell_type": "code",
   "execution_count": 4,
   "metadata": {},
   "outputs": [
    {
     "name": "stdout",
     "output_type": "stream",
     "text": [
      "Total memory consumed by the whole dataframe 56.99 MB\n"
     ]
    }
   ],
   "source": [
    "chunk_iter = pd.read_csv('Data/crunchbase-investments.csv', chunksize=5000, encoding='Latin-1')\n",
    "\n",
    "col_missing_values,col_mem_footprint,col_unique_count = [], [], {}\n",
    "total_mem_consumption = 0\n",
    "\n",
    "for chunk in chunk_iter:\n",
    "    # Collecting missing value count of each column in dataframe chunk \n",
    "    col_missing_values.append(chunk.isnull().sum(axis=0))\n",
    "    \n",
    "    # Collecting memory consumption of each dataframe chunk\n",
    "    total_mem_consumption += chunk.memory_usage(deep=True).sum() / 2**20\n",
    "    col_mem_footprint.append(chunk.memory_usage(deep=True))\n",
    "    \n",
    "    #Collecting unique value count of each column of type object of the dataframe chunk\n",
    "    object_cols = chunk.select_dtypes(include='object')\n",
    "    for col in object_cols.columns:\n",
    "        if col not in col_unique_count:\n",
    "            col_unique_count[col] = []\n",
    "        col_unique_count[col].append(chunk[col].value_counts())\n",
    "        \n",
    "print(f'Total memory consumed by the whole dataframe {total_mem_consumption:.2f} MB' )"
   ]
  },
  {
   "cell_type": "markdown",
   "metadata": {},
   "source": [
    "**Checking for columns without missing values for conversion to integer datatype**"
   ]
  },
  {
   "cell_type": "code",
   "execution_count": 5,
   "metadata": {},
   "outputs": [
    {
     "data": {
      "text/plain": [
       "company_category_code       643\n",
       "company_city                533\n",
       "company_country_code          1\n",
       "company_name                  1\n",
       "company_permalink             1\n",
       "company_region                1\n",
       "company_state_code          492\n",
       "funded_at                     3\n",
       "funded_month                  3\n",
       "funded_quarter                3\n",
       "funded_year                   3\n",
       "funding_round_type            3\n",
       "investor_category_code    50427\n",
       "investor_city             12480\n",
       "investor_country_code     12001\n",
       "investor_name                 2\n",
       "investor_permalink            2\n",
       "investor_region               2\n",
       "investor_state_code       16809\n",
       "raised_amount_usd          3599\n",
       "dtype: int64"
      ]
     },
     "execution_count": 5,
     "metadata": {},
     "output_type": "execute_result"
    }
   ],
   "source": [
    "# Grouping missing value count of all columns across all dataframes \n",
    "missing_val_series = pd.concat(col_missing_values)\n",
    "missing_val_series.groupby(missing_val_series.index).sum()"
   ]
  },
  {
   "cell_type": "markdown",
   "metadata": {},
   "source": [
    "**Observation: As all columns have missing values, no column can be considered for conversion to integer data type**"
   ]
  },
  {
   "cell_type": "markdown",
   "metadata": {},
   "source": [
    "**Analyzing memory footprint of each column to check which columns have scope for memory optimization**"
   ]
  },
  {
   "cell_type": "code",
   "execution_count": 6,
   "metadata": {},
   "outputs": [
    {
     "data": {
      "text/plain": [
       "Index                     0.001381\n",
       "company_category_code     3.262619\n",
       "company_city              3.343473\n",
       "company_country_code      3.025223\n",
       "company_name              3.424955\n",
       "company_permalink         3.869808\n",
       "company_region            3.253503\n",
       "company_state_code        2.962161\n",
       "funded_at                 3.378091\n",
       "funded_month              3.226837\n",
       "funded_quarter            3.226837\n",
       "funded_year               0.403366\n",
       "funding_round_type        3.252704\n",
       "investor_category_code    0.593590\n",
       "investor_city             2.751430\n",
       "investor_country_code     2.524654\n",
       "investor_name             3.734270\n",
       "investor_permalink        4.749821\n",
       "investor_region           3.238946\n",
       "investor_state_code       2.361876\n",
       "raised_amount_usd         0.403366\n",
       "dtype: float64"
      ]
     },
     "execution_count": 6,
     "metadata": {},
     "output_type": "execute_result"
    }
   ],
   "source": [
    "concat = pd.concat(col_mem_footprint)\n",
    "concat.groupby(concat.index).sum() / 2**20"
   ]
  },
  {
   "cell_type": "markdown",
   "metadata": {},
   "source": [
    "**Columns of type object that can be converted to type category** "
   ]
  },
  {
   "cell_type": "code",
   "execution_count": 7,
   "metadata": {},
   "outputs": [
    {
     "name": "stdout",
     "output_type": "stream",
     "text": [
      "company_permalink\n",
      "company_name\n",
      "company_category_code\n",
      "company_country_code\n",
      "company_state_code\n",
      "company_region\n",
      "company_city\n",
      "investor_permalink\n",
      "investor_name\n",
      "investor_category_code\n",
      "investor_country_code\n",
      "investor_state_code\n",
      "investor_region\n",
      "investor_city\n",
      "funding_round_type\n",
      "funded_at\n",
      "funded_month\n",
      "funded_quarter\n"
     ]
    }
   ],
   "source": [
    "# Columns that have less than 50% unique values can be converted to type category \n",
    "for col in col_unique_count:\n",
    "    combined_series = pd.concat(col_unique_count[col])\n",
    "    combined_series = combined_series.groupby(combined_series.index).sum()\n",
    "    if len(combined_series) / combined_series.sum() < 0.5:\n",
    "        print(col)"
   ]
  },
  {
   "cell_type": "markdown",
   "metadata": {},
   "source": [
    "**Minimizing the memory footprint of each dataframe chunk using the above analysis and loading that data into an sqlite table for further querying and analysis**"
   ]
  },
  {
   "cell_type": "code",
   "execution_count": 9,
   "metadata": {},
   "outputs": [],
   "source": [
    "import sqlite3\n",
    "import numpy as np\n",
    "sqlite3.register_adapter(np.int64, lambda val: int(val))\n",
    "conn = sqlite3.connect('Data/crunchbase.db')\n",
    "cur=conn.cursor()"
   ]
  },
  {
   "cell_type": "code",
   "execution_count": 10,
   "metadata": {},
   "outputs": [
    {
     "name": "stdout",
     "output_type": "stream",
     "text": [
      "Total memory consumed by the whole dataframe 5.16 MB\n"
     ]
    }
   ],
   "source": [
    "cur.execute('DROP TABLE INVESTMENTS')\n",
    "categories_dict = {\n",
    "  'company_name': 'category',\n",
    "   'company_category_code' : 'category', \n",
    "   'investor_name' : 'category', \n",
    "   'investor_category_code' : 'category', \n",
    "   'funding_round_type' : 'category', \n",
    "}\n",
    "chunk_iter = pd.read_csv('Data/crunchbase-investments.csv', chunksize=5000, usecols=['company_name', 'company_category_code', \n",
    "                                                                                'investor_name','investor_category_code',\n",
    "                                                                                'funding_round_type', 'funded_at', 'raised_amount_usd'],\n",
    "                                            parse_dates=['funded_at'], dtype=categories_dict, encoding='Latin-1')\n",
    "total_optimized_mem = 0 \n",
    "for chunk in chunk_iter:\n",
    "    chunk.to_sql('INVESTMENTS',conn,if_exists='append',index=False, dtype={'raised_amount_usd': 'INTEGER'})\n",
    "    total_optimized_mem += chunk.memory_usage(deep=True).sum() / 2**20\n",
    "    \n",
    "print(f'Total memory consumed by the whole dataframe {total_optimized_mem:.2f} MB' )"
   ]
  },
  {
   "cell_type": "markdown",
   "metadata": {},
   "source": [
    "**Checking the schema of sqlite table *INVESTMENTS***"
   ]
  },
  {
   "cell_type": "code",
   "execution_count": 11,
   "metadata": {},
   "outputs": [
    {
     "name": "stdout",
     "output_type": "stream",
     "text": [
      "   cid                    name       type  notnull dflt_value  pk\n",
      "0    0            company_name       TEXT        0       None   0\n",
      "1    1   company_category_code       TEXT        0       None   0\n",
      "2    2           investor_name       TEXT        0       None   0\n",
      "3    3  investor_category_code       TEXT        0       None   0\n",
      "4    4      funding_round_type       TEXT        0       None   0\n",
      "5    5               funded_at  TIMESTAMP        0       None   0\n",
      "6    6       raised_amount_usd    INTEGER        0       None   0\n"
     ]
    }
   ],
   "source": [
    "results_df = pd.read_sql(\"PRAGMA table_info(INVESTMENTS);\", conn)\n",
    "print(results_df)"
   ]
  },
  {
   "cell_type": "markdown",
   "metadata": {},
   "source": [
    "**Which company raised the most money?**"
   ]
  },
  {
   "cell_type": "code",
   "execution_count": 12,
   "metadata": {},
   "outputs": [
    {
     "data": {
      "text/html": [
       "<div>\n",
       "<style scoped>\n",
       "    .dataframe tbody tr th:only-of-type {\n",
       "        vertical-align: middle;\n",
       "    }\n",
       "\n",
       "    .dataframe tbody tr th {\n",
       "        vertical-align: top;\n",
       "    }\n",
       "\n",
       "    .dataframe thead th {\n",
       "        text-align: right;\n",
       "    }\n",
       "</style>\n",
       "<table border=\"1\" class=\"dataframe\">\n",
       "  <thead>\n",
       "    <tr style=\"text-align: right;\">\n",
       "      <th></th>\n",
       "      <th>company_category_code</th>\n",
       "      <th>raised</th>\n",
       "    </tr>\n",
       "  </thead>\n",
       "  <tbody>\n",
       "    <tr>\n",
       "      <th>0</th>\n",
       "      <td>biotech</td>\n",
       "      <td>110396423062</td>\n",
       "    </tr>\n",
       "  </tbody>\n",
       "</table>\n",
       "</div>"
      ],
      "text/plain": [
       "  company_category_code        raised\n",
       "0               biotech  110396423062"
      ]
     },
     "execution_count": 12,
     "metadata": {},
     "output_type": "execute_result"
    }
   ],
   "source": [
    "query = \"\"\"\n",
    "        SELECT company_category_code,\n",
    "        SUM(raised_amount_usd) as raised\n",
    "        from INVESTMENTS\n",
    "        GROUP BY company_category_code\n",
    "        ORDER BY raised DESC\n",
    "        LIMIT 1\n",
    "        \"\"\"\n",
    "max_funding_cat = pd.read_sql(query, conn)\n",
    "max_funding_cat"
   ]
  },
  {
   "cell_type": "markdown",
   "metadata": {},
   "source": [
    "**Which investor invested the most money?**"
   ]
  },
  {
   "cell_type": "code",
   "execution_count": 13,
   "metadata": {},
   "outputs": [
    {
     "data": {
      "text/html": [
       "<div>\n",
       "<style scoped>\n",
       "    .dataframe tbody tr th:only-of-type {\n",
       "        vertical-align: middle;\n",
       "    }\n",
       "\n",
       "    .dataframe tbody tr th {\n",
       "        vertical-align: top;\n",
       "    }\n",
       "\n",
       "    .dataframe thead th {\n",
       "        text-align: right;\n",
       "    }\n",
       "</style>\n",
       "<table border=\"1\" class=\"dataframe\">\n",
       "  <thead>\n",
       "    <tr style=\"text-align: right;\">\n",
       "      <th></th>\n",
       "      <th>investor_name</th>\n",
       "      <th>amt_invested</th>\n",
       "    </tr>\n",
       "  </thead>\n",
       "  <tbody>\n",
       "    <tr>\n",
       "      <th>0</th>\n",
       "      <td>Kleiner Perkins Caufield &amp; Byers</td>\n",
       "      <td>11217826376</td>\n",
       "    </tr>\n",
       "  </tbody>\n",
       "</table>\n",
       "</div>"
      ],
      "text/plain": [
       "                      investor_name  amt_invested\n",
       "0  Kleiner Perkins Caufield & Byers   11217826376"
      ]
     },
     "execution_count": 13,
     "metadata": {},
     "output_type": "execute_result"
    }
   ],
   "source": [
    "query = \"\"\"\n",
    "        SELECT investor_name,\n",
    "        SUM(raised_amount_usd) as amt_invested\n",
    "        from INVESTMENTS\n",
    "        GROUP BY investor_name\n",
    "        ORDER BY amt_invested DESC\n",
    "        LIMIT 1\n",
    "        \"\"\"\n",
    "max_funding_investor = pd.read_sql(query, conn)\n",
    "max_funding_investor"
   ]
  },
  {
   "cell_type": "markdown",
   "metadata": {},
   "source": [
    "**Which investor invested the most money per startup?**"
   ]
  },
  {
   "cell_type": "code",
   "execution_count": 14,
   "metadata": {},
   "outputs": [
    {
     "data": {
      "text/html": [
       "<div>\n",
       "<style scoped>\n",
       "    .dataframe tbody tr th:only-of-type {\n",
       "        vertical-align: middle;\n",
       "    }\n",
       "\n",
       "    .dataframe tbody tr th {\n",
       "        vertical-align: top;\n",
       "    }\n",
       "\n",
       "    .dataframe thead th {\n",
       "        text-align: right;\n",
       "    }\n",
       "</style>\n",
       "<table border=\"1\" class=\"dataframe\">\n",
       "  <thead>\n",
       "    <tr style=\"text-align: right;\">\n",
       "      <th></th>\n",
       "      <th>investor_name</th>\n",
       "      <th>avg_investment</th>\n",
       "    </tr>\n",
       "  </thead>\n",
       "  <tbody>\n",
       "    <tr>\n",
       "      <th>0</th>\n",
       "      <td>Marlin Equity Partners</td>\n",
       "      <td>2600000000</td>\n",
       "    </tr>\n",
       "  </tbody>\n",
       "</table>\n",
       "</div>"
      ],
      "text/plain": [
       "            investor_name  avg_investment\n",
       "0  Marlin Equity Partners      2600000000"
      ]
     },
     "execution_count": 14,
     "metadata": {},
     "output_type": "execute_result"
    }
   ],
   "source": [
    "query = \"\"\"\n",
    "        SELECT investor_name,\n",
    "        SUM(raised_amount_usd)/COUNT(raised_amount_usd) as avg_investment\n",
    "        FROM investments\n",
    "        GROUP BY investor_name\n",
    "        ORDER BY avg_investment DESC\n",
    "        LIMIT 1\n",
    "        \"\"\"\n",
    "max_avg_funding_investor = pd.read_sql(query, conn)\n",
    "max_avg_funding_investor"
   ]
  },
  {
   "cell_type": "markdown",
   "metadata": {},
   "source": [
    "**Which was the most popular ad least popular funding round?**"
   ]
  },
  {
   "cell_type": "code",
   "execution_count": 15,
   "metadata": {},
   "outputs": [
    {
     "name": "stdout",
     "output_type": "stream",
     "text": [
      "The most popular funding round type was: series-a\n",
      "The least popular funding round type was: crowdfunding\n"
     ]
    }
   ],
   "source": [
    "query = \"\"\"\n",
    "        SELECT funding_round_type,\n",
    "        COUNT(*) as frequency\n",
    "        FROM investments\n",
    "        WHERE funding_round_type IS NOT NULL\n",
    "        GROUP BY funding_round_type\n",
    "        ORDER BY frequency DESC\n",
    "        \"\"\"\n",
    "founding_round_type_popularity = pd.read_sql(query, conn)\n",
    "most_popular = founding_round_type_popularity.iloc[0][0]\n",
    "least_popular = founding_round_type_popularity.iloc[len(founding_round_type_popularity) - 1][0]\n",
    "most_popular, least_popular\n",
    "print(f'The most popular funding round type was: {most_popular}')\n",
    "print(f'The least popular funding round type was: {least_popular}')"
   ]
  },
  {
   "cell_type": "markdown",
   "metadata": {},
   "source": [
    "**What amount of funds did the top 10% raise?**"
   ]
  },
  {
   "cell_type": "code",
   "execution_count": 16,
   "metadata": {},
   "outputs": [
    {
     "name": "stdout",
     "output_type": "stream",
     "text": [
      "The top 10% raised 457.63 billion dollars\n"
     ]
    }
   ],
   "source": [
    "query=\"\"\"\n",
    "      select iv.company_name,\n",
    "      cast(sum(raised_amount_usd) as double)/(select cast(sum(raised_amount_usd) as bigint) from INVESTMENTS) as percentage_funding,\n",
    "      cast(sum(raised_amount_usd) as bigint) as funding_amount\n",
    "      from INVESTMENTS as iv\n",
    "      group by iv.company_name \n",
    "      order by funding_amount desc\n",
    "      limit (select cast(count(distinct company_name)*.1 as int) from INVESTMENTS)\n",
    "      \"\"\"\n",
    "top_10_percent = pd.read_sql(query, conn)\n",
    "total_portion_of_investment = top_10_percent['funding_amount'].sum()\n",
    "print(f'The top 10% raised {total_portion_of_investment / 1e9:.2f} billion dollars')"
   ]
  },
  {
   "cell_type": "markdown",
   "metadata": {},
   "source": [
    "**What amount of funds did the top 1% raise?**"
   ]
  },
  {
   "cell_type": "code",
   "execution_count": 17,
   "metadata": {},
   "outputs": [
    {
     "name": "stdout",
     "output_type": "stream",
     "text": [
      "The top 1% raised 178.73 billion dollars\n"
     ]
    }
   ],
   "source": [
    "query=\"\"\"\n",
    "      select iv.company_name,\n",
    "      cast(sum(raised_amount_usd) as double)/(select cast(sum(raised_amount_usd) as bigint) from INVESTMENTS) as percentage_funding,\n",
    "      cast(sum(raised_amount_usd) as bigint) as funding_amount\n",
    "      from INVESTMENTS as iv\n",
    "      group by iv.company_name \n",
    "      order by funding_amount desc\n",
    "      limit (select cast(count(distinct company_name)*.01 as int) from INVESTMENTS)\n",
    "      \"\"\"\n",
    "top_1_percent = pd.read_sql(query, conn)\n",
    "total_portion_of_investment = top_1_percent['funding_amount'].sum()\n",
    "print(f'The top 1% raised {total_portion_of_investment / 1e9:.2f} billion dollars')"
   ]
  }
 ],
 "metadata": {
  "anaconda-cloud": {},
  "kernelspec": {
   "display_name": "Python 3",
   "language": "python",
   "name": "python3"
  },
  "language_info": {
   "codemirror_mode": {
    "name": "ipython",
    "version": 3
   },
   "file_extension": ".py",
   "mimetype": "text/x-python",
   "name": "python",
   "nbconvert_exporter": "python",
   "pygments_lexer": "ipython3",
   "version": "3.8.5"
  }
 },
 "nbformat": 4,
 "nbformat_minor": 2
}
